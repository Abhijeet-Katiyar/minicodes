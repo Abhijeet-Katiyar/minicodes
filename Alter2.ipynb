{
 "cells": [
  {
   "cell_type": "code",
   "execution_count": 1,
   "metadata": {},
   "outputs": [],
   "source": [
    "import pandas as pd\n",
    "import numpy as np"
   ]
  },
  {
   "cell_type": "code",
   "execution_count": 2,
   "metadata": {},
   "outputs": [],
   "source": [
    "New_York=pd.read_csv(\"DATASET/New_York.csv\",index_col='PLACE')"
   ]
  },
  {
   "cell_type": "code",
   "execution_count": 3,
   "metadata": {},
   "outputs": [
    {
     "data": {
      "text/html": [
       "<div>\n",
       "<style scoped>\n",
       "    .dataframe tbody tr th:only-of-type {\n",
       "        vertical-align: middle;\n",
       "    }\n",
       "\n",
       "    .dataframe tbody tr th {\n",
       "        vertical-align: top;\n",
       "    }\n",
       "\n",
       "    .dataframe thead th {\n",
       "        text-align: right;\n",
       "    }\n",
       "</style>\n",
       "<table border=\"1\" class=\"dataframe\">\n",
       "  <thead>\n",
       "    <tr style=\"text-align: right;\">\n",
       "      <th></th>\n",
       "      <th>Unnamed: 0</th>\n",
       "      <th>TOT_POP</th>\n",
       "      <th>PCT_U18</th>\n",
       "      <th>PC_18_65</th>\n",
       "      <th>PCT_O65</th>\n",
       "      <th>MALE_FEM</th>\n",
       "    </tr>\n",
       "    <tr>\n",
       "      <th>PLACE</th>\n",
       "      <th></th>\n",
       "      <th></th>\n",
       "      <th></th>\n",
       "      <th></th>\n",
       "      <th></th>\n",
       "      <th></th>\n",
       "    </tr>\n",
       "  </thead>\n",
       "  <tbody>\n",
       "    <tr>\n",
       "      <th>Adams village</th>\n",
       "      <td>1</td>\n",
       "      <td>1753</td>\n",
       "      <td>25.3</td>\n",
       "      <td>56.2</td>\n",
       "      <td>18.5</td>\n",
       "      <td>79.0</td>\n",
       "    </tr>\n",
       "    <tr>\n",
       "      <th>Adams Center CDP</th>\n",
       "      <td>2</td>\n",
       "      <td>1675</td>\n",
       "      <td>30.4</td>\n",
       "      <td>58.7</td>\n",
       "      <td>10.9</td>\n",
       "      <td>87.0</td>\n",
       "    </tr>\n",
       "    <tr>\n",
       "      <th>Addison village</th>\n",
       "      <td>3</td>\n",
       "      <td>1842</td>\n",
       "      <td>28.8</td>\n",
       "      <td>56.0</td>\n",
       "      <td>15.2</td>\n",
       "      <td>84.0</td>\n",
       "    </tr>\n",
       "    <tr>\n",
       "      <th>Airmont CDP</th>\n",
       "      <td>4</td>\n",
       "      <td>7835</td>\n",
       "      <td>25.0</td>\n",
       "      <td>65.3</td>\n",
       "      <td>9.7</td>\n",
       "      <td>89.0</td>\n",
       "    </tr>\n",
       "    <tr>\n",
       "      <th>Akron village</th>\n",
       "      <td>5</td>\n",
       "      <td>2906</td>\n",
       "      <td>24.7</td>\n",
       "      <td>57.1</td>\n",
       "      <td>18.2</td>\n",
       "      <td>81.1</td>\n",
       "    </tr>\n",
       "    <tr>\n",
       "      <th>Albany city</th>\n",
       "      <td>6</td>\n",
       "      <td>101082</td>\n",
       "      <td>17.8</td>\n",
       "      <td>66.8</td>\n",
       "      <td>15.3</td>\n",
       "      <td>84.2</td>\n",
       "    </tr>\n",
       "    <tr>\n",
       "      <th>Albertson CDP</th>\n",
       "      <td>7</td>\n",
       "      <td>5166</td>\n",
       "      <td>18.9</td>\n",
       "      <td>61.5</td>\n",
       "      <td>19.6</td>\n",
       "      <td>91.8</td>\n",
       "    </tr>\n",
       "    <tr>\n",
       "      <th>Albion village</th>\n",
       "      <td>8</td>\n",
       "      <td>5863</td>\n",
       "      <td>26.1</td>\n",
       "      <td>56.8</td>\n",
       "      <td>17.1</td>\n",
       "      <td>85.2</td>\n",
       "    </tr>\n",
       "    <tr>\n",
       "      <th>Alden village</th>\n",
       "      <td>9</td>\n",
       "      <td>2457</td>\n",
       "      <td>25.0</td>\n",
       "      <td>60.6</td>\n",
       "      <td>14.4</td>\n",
       "      <td>88.3</td>\n",
       "    </tr>\n",
       "    <tr>\n",
       "      <th>Alexandria Bay village</th>\n",
       "      <td>10</td>\n",
       "      <td>1194</td>\n",
       "      <td>20.8</td>\n",
       "      <td>56.2</td>\n",
       "      <td>23.0</td>\n",
       "      <td>83.3</td>\n",
       "    </tr>\n",
       "  </tbody>\n",
       "</table>\n",
       "</div>"
      ],
      "text/plain": [
       "                                                    Unnamed: 0  TOT_POP  \\\n",
       "PLACE                                                                     \n",
       "Adams village                                  ...           1     1753   \n",
       "Adams Center CDP                               ...           2     1675   \n",
       "Addison village                                ...           3     1842   \n",
       "Airmont CDP                                    ...           4     7835   \n",
       "Akron village                                  ...           5     2906   \n",
       "Albany city                                    ...           6   101082   \n",
       "Albertson CDP                                  ...           7     5166   \n",
       "Albion village                                 ...           8     5863   \n",
       "Alden village                                  ...           9     2457   \n",
       "Alexandria Bay village                         ...          10     1194   \n",
       "\n",
       "                                                    PCT_U18  PC_18_65  \\\n",
       "PLACE                                                                   \n",
       "Adams village                                  ...     25.3      56.2   \n",
       "Adams Center CDP                               ...     30.4      58.7   \n",
       "Addison village                                ...     28.8      56.0   \n",
       "Airmont CDP                                    ...     25.0      65.3   \n",
       "Akron village                                  ...     24.7      57.1   \n",
       "Albany city                                    ...     17.8      66.8   \n",
       "Albertson CDP                                  ...     18.9      61.5   \n",
       "Albion village                                 ...     26.1      56.8   \n",
       "Alden village                                  ...     25.0      60.6   \n",
       "Alexandria Bay village                         ...     20.8      56.2   \n",
       "\n",
       "                                                    PCT_O65  MALE_FEM  \n",
       "PLACE                                                                  \n",
       "Adams village                                  ...     18.5      79.0  \n",
       "Adams Center CDP                               ...     10.9      87.0  \n",
       "Addison village                                ...     15.2      84.0  \n",
       "Airmont CDP                                    ...      9.7      89.0  \n",
       "Akron village                                  ...     18.2      81.1  \n",
       "Albany city                                    ...     15.3      84.2  \n",
       "Albertson CDP                                  ...     19.6      91.8  \n",
       "Albion village                                 ...     17.1      85.2  \n",
       "Alden village                                  ...     14.4      88.3  \n",
       "Alexandria Bay village                         ...     23.0      83.3  "
      ]
     },
     "execution_count": 3,
     "metadata": {},
     "output_type": "execute_result"
    }
   ],
   "source": [
    "New_York.head(10)"
   ]
  },
  {
   "cell_type": "code",
   "execution_count": 6,
   "metadata": {},
   "outputs": [],
   "source": [
    "DF=New_York[['TOT_POP','PCT_U18','PC_18_65','PCT_O65','MALE_FEM']]"
   ]
  },
  {
   "cell_type": "code",
   "execution_count": 9,
   "metadata": {},
   "outputs": [
    {
     "data": {
      "text/html": [
       "<div>\n",
       "<style scoped>\n",
       "    .dataframe tbody tr th:only-of-type {\n",
       "        vertical-align: middle;\n",
       "    }\n",
       "\n",
       "    .dataframe tbody tr th {\n",
       "        vertical-align: top;\n",
       "    }\n",
       "\n",
       "    .dataframe thead th {\n",
       "        text-align: right;\n",
       "    }\n",
       "</style>\n",
       "<table border=\"1\" class=\"dataframe\">\n",
       "  <thead>\n",
       "    <tr style=\"text-align: right;\">\n",
       "      <th></th>\n",
       "      <th>TOT_POP</th>\n",
       "      <th>PCT_U18</th>\n",
       "      <th>PC_18_65</th>\n",
       "      <th>PCT_O65</th>\n",
       "      <th>MALE_FEM</th>\n",
       "    </tr>\n",
       "    <tr>\n",
       "      <th>PLACE</th>\n",
       "      <th></th>\n",
       "      <th></th>\n",
       "      <th></th>\n",
       "      <th></th>\n",
       "      <th></th>\n",
       "    </tr>\n",
       "  </thead>\n",
       "  <tbody>\n",
       "    <tr>\n",
       "      <th>Adams village</th>\n",
       "      <td>1753</td>\n",
       "      <td>25.3</td>\n",
       "      <td>56.2</td>\n",
       "      <td>18.5</td>\n",
       "      <td>79.0</td>\n",
       "    </tr>\n",
       "    <tr>\n",
       "      <th>Adams Center CDP</th>\n",
       "      <td>1675</td>\n",
       "      <td>30.4</td>\n",
       "      <td>58.7</td>\n",
       "      <td>10.9</td>\n",
       "      <td>87.0</td>\n",
       "    </tr>\n",
       "    <tr>\n",
       "      <th>Addison village</th>\n",
       "      <td>1842</td>\n",
       "      <td>28.8</td>\n",
       "      <td>56.0</td>\n",
       "      <td>15.2</td>\n",
       "      <td>84.0</td>\n",
       "    </tr>\n",
       "    <tr>\n",
       "      <th>Airmont CDP</th>\n",
       "      <td>7835</td>\n",
       "      <td>25.0</td>\n",
       "      <td>65.3</td>\n",
       "      <td>9.7</td>\n",
       "      <td>89.0</td>\n",
       "    </tr>\n",
       "    <tr>\n",
       "      <th>Akron village</th>\n",
       "      <td>2906</td>\n",
       "      <td>24.7</td>\n",
       "      <td>57.1</td>\n",
       "      <td>18.2</td>\n",
       "      <td>81.1</td>\n",
       "    </tr>\n",
       "  </tbody>\n",
       "</table>\n",
       "</div>"
      ],
      "text/plain": [
       "                                                    TOT_POP  PCT_U18  \\\n",
       "PLACE                                                                  \n",
       "Adams village                                  ...     1753     25.3   \n",
       "Adams Center CDP                               ...     1675     30.4   \n",
       "Addison village                                ...     1842     28.8   \n",
       "Airmont CDP                                    ...     7835     25.0   \n",
       "Akron village                                  ...     2906     24.7   \n",
       "\n",
       "                                                    PC_18_65  PCT_O65  \\\n",
       "PLACE                                                                   \n",
       "Adams village                                  ...      56.2     18.5   \n",
       "Adams Center CDP                               ...      58.7     10.9   \n",
       "Addison village                                ...      56.0     15.2   \n",
       "Airmont CDP                                    ...      65.3      9.7   \n",
       "Akron village                                  ...      57.1     18.2   \n",
       "\n",
       "                                                    MALE_FEM  \n",
       "PLACE                                                         \n",
       "Adams village                                  ...      79.0  \n",
       "Adams Center CDP                               ...      87.0  \n",
       "Addison village                                ...      84.0  \n",
       "Airmont CDP                                    ...      89.0  \n",
       "Akron village                                  ...      81.1  "
      ]
     },
     "execution_count": 9,
     "metadata": {},
     "output_type": "execute_result"
    }
   ],
   "source": [
    "DF.head()"
   ]
  },
  {
   "cell_type": "code",
   "execution_count": 10,
   "metadata": {},
   "outputs": [
    {
     "name": "stderr",
     "output_type": "stream",
     "text": [
      "C:\\Anaconda\\lib\\site-packages\\ipykernel_launcher.py:1: SettingWithCopyWarning: \n",
      "A value is trying to be set on a copy of a slice from a DataFrame.\n",
      "Try using .loc[row_indexer,col_indexer] = value instead\n",
      "\n",
      "See the caveats in the documentation: http://pandas.pydata.org/pandas-docs/stable/indexing.html#indexing-view-versus-copy\n",
      "  \"\"\"Entry point for launching an IPython kernel.\n"
     ]
    }
   ],
   "source": [
    "DF['PCT_U18']=DF['PCT_U18']*DF['TOT_POP']/100"
   ]
  },
  {
   "cell_type": "code",
   "execution_count": 11,
   "metadata": {},
   "outputs": [
    {
     "data": {
      "text/html": [
       "<div>\n",
       "<style scoped>\n",
       "    .dataframe tbody tr th:only-of-type {\n",
       "        vertical-align: middle;\n",
       "    }\n",
       "\n",
       "    .dataframe tbody tr th {\n",
       "        vertical-align: top;\n",
       "    }\n",
       "\n",
       "    .dataframe thead th {\n",
       "        text-align: right;\n",
       "    }\n",
       "</style>\n",
       "<table border=\"1\" class=\"dataframe\">\n",
       "  <thead>\n",
       "    <tr style=\"text-align: right;\">\n",
       "      <th></th>\n",
       "      <th>TOT_POP</th>\n",
       "      <th>PCT_U18</th>\n",
       "      <th>PC_18_65</th>\n",
       "      <th>PCT_O65</th>\n",
       "      <th>MALE_FEM</th>\n",
       "    </tr>\n",
       "    <tr>\n",
       "      <th>PLACE</th>\n",
       "      <th></th>\n",
       "      <th></th>\n",
       "      <th></th>\n",
       "      <th></th>\n",
       "      <th></th>\n",
       "    </tr>\n",
       "  </thead>\n",
       "  <tbody>\n",
       "    <tr>\n",
       "      <th>Adams village</th>\n",
       "      <td>1753</td>\n",
       "      <td>443.509</td>\n",
       "      <td>56.2</td>\n",
       "      <td>18.5</td>\n",
       "      <td>79.0</td>\n",
       "    </tr>\n",
       "    <tr>\n",
       "      <th>Adams Center CDP</th>\n",
       "      <td>1675</td>\n",
       "      <td>509.200</td>\n",
       "      <td>58.7</td>\n",
       "      <td>10.9</td>\n",
       "      <td>87.0</td>\n",
       "    </tr>\n",
       "    <tr>\n",
       "      <th>Addison village</th>\n",
       "      <td>1842</td>\n",
       "      <td>530.496</td>\n",
       "      <td>56.0</td>\n",
       "      <td>15.2</td>\n",
       "      <td>84.0</td>\n",
       "    </tr>\n",
       "    <tr>\n",
       "      <th>Airmont CDP</th>\n",
       "      <td>7835</td>\n",
       "      <td>1958.750</td>\n",
       "      <td>65.3</td>\n",
       "      <td>9.7</td>\n",
       "      <td>89.0</td>\n",
       "    </tr>\n",
       "    <tr>\n",
       "      <th>Akron village</th>\n",
       "      <td>2906</td>\n",
       "      <td>717.782</td>\n",
       "      <td>57.1</td>\n",
       "      <td>18.2</td>\n",
       "      <td>81.1</td>\n",
       "    </tr>\n",
       "  </tbody>\n",
       "</table>\n",
       "</div>"
      ],
      "text/plain": [
       "                                                    TOT_POP   PCT_U18  \\\n",
       "PLACE                                                                   \n",
       "Adams village                                  ...     1753   443.509   \n",
       "Adams Center CDP                               ...     1675   509.200   \n",
       "Addison village                                ...     1842   530.496   \n",
       "Airmont CDP                                    ...     7835  1958.750   \n",
       "Akron village                                  ...     2906   717.782   \n",
       "\n",
       "                                                    PC_18_65  PCT_O65  \\\n",
       "PLACE                                                                   \n",
       "Adams village                                  ...      56.2     18.5   \n",
       "Adams Center CDP                               ...      58.7     10.9   \n",
       "Addison village                                ...      56.0     15.2   \n",
       "Airmont CDP                                    ...      65.3      9.7   \n",
       "Akron village                                  ...      57.1     18.2   \n",
       "\n",
       "                                                    MALE_FEM  \n",
       "PLACE                                                         \n",
       "Adams village                                  ...      79.0  \n",
       "Adams Center CDP                               ...      87.0  \n",
       "Addison village                                ...      84.0  \n",
       "Airmont CDP                                    ...      89.0  \n",
       "Akron village                                  ...      81.1  "
      ]
     },
     "execution_count": 11,
     "metadata": {},
     "output_type": "execute_result"
    }
   ],
   "source": [
    "DF.head()"
   ]
  },
  {
   "cell_type": "code",
   "execution_count": 12,
   "metadata": {},
   "outputs": [
    {
     "name": "stderr",
     "output_type": "stream",
     "text": [
      "C:\\Anaconda\\lib\\site-packages\\ipykernel_launcher.py:1: SettingWithCopyWarning: \n",
      "A value is trying to be set on a copy of a slice from a DataFrame.\n",
      "Try using .loc[row_indexer,col_indexer] = value instead\n",
      "\n",
      "See the caveats in the documentation: http://pandas.pydata.org/pandas-docs/stable/indexing.html#indexing-view-versus-copy\n",
      "  \"\"\"Entry point for launching an IPython kernel.\n"
     ]
    }
   ],
   "source": [
    "DF['PCT_U18']=DF['PCT_U18']*DF['TOT_POP']/100\n",
    "DF['PC_18_65']=DF['PC_18_65']*DF['TOT_POP']/100"
   ]
  },
  {
   "cell_type": "code",
   "execution_count": 13,
   "metadata": {},
   "outputs": [
    {
     "name": "stderr",
     "output_type": "stream",
     "text": [
      "C:\\Anaconda\\lib\\site-packages\\ipykernel_launcher.py:1: SettingWithCopyWarning: \n",
      "A value is trying to be set on a copy of a slice from a DataFrame.\n",
      "Try using .loc[row_indexer,col_indexer] = value instead\n",
      "\n",
      "See the caveats in the documentation: http://pandas.pydata.org/pandas-docs/stable/indexing.html#indexing-view-versus-copy\n",
      "  \"\"\"Entry point for launching an IPython kernel.\n"
     ]
    }
   ],
   "source": [
    "DF['PCT_U18']=DF['PCT_U18']*DF['TOT_POP']/100\n",
    "DF['PC_18_65']=DF['PC_18_65']*DF['TOT_POP']/100\n",
    "DF['PCT_O65']=DF['PCT_O65']*DF['TOT_POP']/100"
   ]
  },
  {
   "cell_type": "code",
   "execution_count": 14,
   "metadata": {},
   "outputs": [
    {
     "data": {
      "text/html": [
       "<div>\n",
       "<style scoped>\n",
       "    .dataframe tbody tr th:only-of-type {\n",
       "        vertical-align: middle;\n",
       "    }\n",
       "\n",
       "    .dataframe tbody tr th {\n",
       "        vertical-align: top;\n",
       "    }\n",
       "\n",
       "    .dataframe thead th {\n",
       "        text-align: right;\n",
       "    }\n",
       "</style>\n",
       "<table border=\"1\" class=\"dataframe\">\n",
       "  <thead>\n",
       "    <tr style=\"text-align: right;\">\n",
       "      <th></th>\n",
       "      <th>TOT_POP</th>\n",
       "      <th>PCT_U18</th>\n",
       "      <th>PC_18_65</th>\n",
       "      <th>PCT_O65</th>\n",
       "      <th>MALE_FEM</th>\n",
       "    </tr>\n",
       "    <tr>\n",
       "      <th>PLACE</th>\n",
       "      <th></th>\n",
       "      <th></th>\n",
       "      <th></th>\n",
       "      <th></th>\n",
       "      <th></th>\n",
       "    </tr>\n",
       "  </thead>\n",
       "  <tbody>\n",
       "    <tr>\n",
       "      <th>Adams village</th>\n",
       "      <td>1753</td>\n",
       "      <td>443.509</td>\n",
       "      <td>985.186</td>\n",
       "      <td>324.305</td>\n",
       "      <td>79.0</td>\n",
       "    </tr>\n",
       "    <tr>\n",
       "      <th>Adams Center CDP</th>\n",
       "      <td>1675</td>\n",
       "      <td>509.200</td>\n",
       "      <td>983.225</td>\n",
       "      <td>182.575</td>\n",
       "      <td>87.0</td>\n",
       "    </tr>\n",
       "    <tr>\n",
       "      <th>Addison village</th>\n",
       "      <td>1842</td>\n",
       "      <td>530.496</td>\n",
       "      <td>1031.520</td>\n",
       "      <td>279.984</td>\n",
       "      <td>84.0</td>\n",
       "    </tr>\n",
       "    <tr>\n",
       "      <th>Airmont CDP</th>\n",
       "      <td>7835</td>\n",
       "      <td>1958.750</td>\n",
       "      <td>5116.255</td>\n",
       "      <td>759.995</td>\n",
       "      <td>89.0</td>\n",
       "    </tr>\n",
       "    <tr>\n",
       "      <th>Akron village</th>\n",
       "      <td>2906</td>\n",
       "      <td>717.782</td>\n",
       "      <td>1659.326</td>\n",
       "      <td>528.892</td>\n",
       "      <td>81.1</td>\n",
       "    </tr>\n",
       "  </tbody>\n",
       "</table>\n",
       "</div>"
      ],
      "text/plain": [
       "                                                    TOT_POP   PCT_U18  \\\n",
       "PLACE                                                                   \n",
       "Adams village                                  ...     1753   443.509   \n",
       "Adams Center CDP                               ...     1675   509.200   \n",
       "Addison village                                ...     1842   530.496   \n",
       "Airmont CDP                                    ...     7835  1958.750   \n",
       "Akron village                                  ...     2906   717.782   \n",
       "\n",
       "                                                    PC_18_65  PCT_O65  \\\n",
       "PLACE                                                                   \n",
       "Adams village                                  ...   985.186  324.305   \n",
       "Adams Center CDP                               ...   983.225  182.575   \n",
       "Addison village                                ...  1031.520  279.984   \n",
       "Airmont CDP                                    ...  5116.255  759.995   \n",
       "Akron village                                  ...  1659.326  528.892   \n",
       "\n",
       "                                                    MALE_FEM  \n",
       "PLACE                                                         \n",
       "Adams village                                  ...      79.0  \n",
       "Adams Center CDP                               ...      87.0  \n",
       "Addison village                                ...      84.0  \n",
       "Airmont CDP                                    ...      89.0  \n",
       "Akron village                                  ...      81.1  "
      ]
     },
     "execution_count": 14,
     "metadata": {},
     "output_type": "execute_result"
    }
   ],
   "source": [
    "DF.head()"
   ]
  },
  {
   "cell_type": "code",
   "execution_count": 137,
   "metadata": {},
   "outputs": [],
   "source": [
    "X=np.log(DF[['TOT_POP', 'PCT_U18', 'PC_18_65', 'PCT_O65']])\n",
    "y=np.log(DF['MALE_FEM'])"
   ]
  },
  {
   "cell_type": "code",
   "execution_count": 138,
   "metadata": {},
   "outputs": [],
   "source": [
    "from sklearn.model_selection import train_test_split\n",
    "X_train, X_test, y_train, y_test = train_test_split( X, y, test_size=0.30, random_state=42)"
   ]
  },
  {
   "cell_type": "code",
   "execution_count": null,
   "metadata": {},
   "outputs": [],
   "source": []
  },
  {
   "cell_type": "code",
   "execution_count": 139,
   "metadata": {},
   "outputs": [],
   "source": [
    "from sklearn.linear_model import LinearRegression as LR"
   ]
  },
  {
   "cell_type": "code",
   "execution_count": 140,
   "metadata": {},
   "outputs": [],
   "source": [
    "lm=LR(normalize=True,fit_intercept=True)\n",
    "lm_fit=lm.fit(X_train,y_train)"
   ]
  },
  {
   "cell_type": "code",
   "execution_count": 141,
   "metadata": {},
   "outputs": [],
   "source": [
    "Predicts=lm.predict(np.array(X_test))"
   ]
  },
  {
   "cell_type": "code",
   "execution_count": 142,
   "metadata": {},
   "outputs": [
    {
     "data": {
      "text/plain": [
       "array([4.46339766, 4.48903035, 4.51040532, 4.50795475, 4.46293214,\n",
       "       4.38042317, 4.4951365 , 4.51950908, 4.48946894, 4.5617769 ,\n",
       "       4.58806307, 4.49728684, 4.55790051, 4.43718438, 4.37435829,\n",
       "       4.37681471, 4.51730901, 4.47434009, 4.4601251 , 4.53856638,\n",
       "       4.51780016, 4.46287363, 4.46213451, 4.41560511, 4.47456525,\n",
       "       4.44391826, 4.50218406, 4.40670674, 4.62293885, 4.42361331,\n",
       "       4.42796046, 4.42844201, 4.54393327, 4.49628927, 4.44971806,\n",
       "       4.5664894 , 4.27240833, 4.46184378, 4.39282984, 4.60162826,\n",
       "       4.55264763, 4.6103471 , 4.57365384, 4.42415365, 4.50123553,\n",
       "       4.51512299, 4.56762663, 4.48700695, 4.50797358, 4.61101599,\n",
       "       4.52493737, 4.52180334, 4.53538571, 4.54816983, 4.51320381,\n",
       "       4.511249  , 4.57769117, 4.44308002, 4.42997912, 4.43155782,\n",
       "       4.39231416, 4.44946349, 4.56825745, 4.47803614, 4.49678837,\n",
       "       4.45937675, 4.63626595, 4.48791065, 4.4934165 , 4.49478062,\n",
       "       4.4981113 , 4.47757959, 4.41765277, 4.4433608 , 4.41437638,\n",
       "       4.33947457, 4.41277103, 4.43780379, 4.40505965, 4.56072943,\n",
       "       4.45058292, 4.45929061, 4.46641007, 4.60837098, 4.40663424,\n",
       "       4.45485543, 4.47483018, 4.40290505, 4.44727942, 4.46051473,\n",
       "       4.62124508, 4.41365524, 4.54251748, 4.74734646, 4.97217902,\n",
       "       4.5109314 , 4.45945654, 4.52555459, 4.49706018, 4.41455494,\n",
       "       4.38624104, 4.4021483 , 4.48246805, 4.39926106, 4.51653117,\n",
       "       4.47855539, 4.50442014, 4.55182363, 4.45137568, 4.48016269,\n",
       "       4.45241145, 4.48127758, 4.51479711, 4.57528298, 4.49493786,\n",
       "       4.4677294 , 4.41881138, 4.51868196, 4.51402456, 4.41591528,\n",
       "       4.5247034 , 4.44128788, 4.61348752, 4.5868802 , 4.56835595,\n",
       "       4.50065948, 4.46395299, 4.49166027, 4.52608393, 4.50643559,\n",
       "       4.40146532, 4.57511369, 4.44655796, 4.43271979, 4.42340733,\n",
       "       4.52943196, 4.56814537, 4.51301173, 4.52997544, 4.46678891,\n",
       "       4.44931588, 4.54271314, 4.52160899, 4.49961176, 4.51206102,\n",
       "       4.42696067, 4.4108847 , 4.56876496, 4.82681529, 4.52426717,\n",
       "       4.50001826, 4.35624393, 4.46698072, 4.43113993, 4.65579002,\n",
       "       4.46539554, 4.42779797, 4.51268012, 4.45646639, 4.40656317,\n",
       "       4.47379951, 4.44611968, 4.54805904, 4.5354927 , 4.51776142,\n",
       "       4.47135824, 4.48739922, 4.42894741, 4.49443914, 4.54943708,\n",
       "       4.45635132, 4.40632042, 4.43129078, 4.44548722, 4.38189852,\n",
       "       4.48608446, 4.46219282, 4.5318824 , 4.44016519, 4.49044722,\n",
       "       4.39432674, 4.48799408, 4.52825043, 4.62504835, 4.49428155,\n",
       "       4.450898  , 4.48304952, 4.56985604, 4.42736224, 4.43907063,\n",
       "       4.53784261, 4.52426506, 4.48358253, 4.45020983, 4.44401691,\n",
       "       4.56888604, 4.50640871, 4.53174295, 4.59427461, 4.49019892,\n",
       "       4.46728439, 4.49402563, 4.45730817, 4.48818912, 4.50379895,\n",
       "       4.4712329 , 4.4890394 , 4.41530423, 4.55115893, 4.37928162,\n",
       "       4.57537946, 4.44203962, 4.42048725, 4.54501096, 4.54986263,\n",
       "       4.48891198, 4.39810334, 4.46104984, 4.4841478 , 4.46940332,\n",
       "       4.47394236, 4.53873253, 4.50640897, 4.49517405, 4.64489556,\n",
       "       4.50099032, 4.43038571, 4.598281  , 4.58028023, 4.55291169,\n",
       "       4.46993899, 4.49592859, 4.49011013, 4.50246751, 4.47554474,\n",
       "       4.42257006, 4.59019218])"
      ]
     },
     "execution_count": 142,
     "metadata": {},
     "output_type": "execute_result"
    }
   ],
   "source": [
    "Predicts"
   ]
  },
  {
   "cell_type": "code",
   "execution_count": 143,
   "metadata": {},
   "outputs": [
    {
     "data": {
      "text/plain": [
       "0.3110927467501541"
      ]
     },
     "execution_count": 143,
     "metadata": {},
     "output_type": "execute_result"
    }
   ],
   "source": [
    "lm.score(X_test,y_test)"
   ]
  },
  {
   "cell_type": "code",
   "execution_count": 144,
   "metadata": {},
   "outputs": [
    {
     "data": {
      "text/plain": [
       "0.12338053900181578"
      ]
     },
     "execution_count": 144,
     "metadata": {},
     "output_type": "execute_result"
    }
   ],
   "source": [
    "import sklearn.metrics as po\n",
    "po.r2_score(np.exp(y_test),np.exp(Predicts))"
   ]
  },
  {
   "cell_type": "code",
   "execution_count": 146,
   "metadata": {},
   "outputs": [],
   "source": [
    "#tsdf=pd.concat([pd.Series(np.exp(y_test)),pd.Series(np.exp(Predicts),index=y_test.index)],axis=1)\n",
    "r=pd.Series(np.exp(y_test)).corr(pd.Series(np.exp(Predicts),index=y_test.index))"
   ]
  },
  {
   "cell_type": "code",
   "execution_count": 130,
   "metadata": {},
   "outputs": [
    {
     "data": {
      "text/html": [
       "<div>\n",
       "<style scoped>\n",
       "    .dataframe tbody tr th:only-of-type {\n",
       "        vertical-align: middle;\n",
       "    }\n",
       "\n",
       "    .dataframe tbody tr th {\n",
       "        vertical-align: top;\n",
       "    }\n",
       "\n",
       "    .dataframe thead th {\n",
       "        text-align: right;\n",
       "    }\n",
       "</style>\n",
       "<table border=\"1\" class=\"dataframe\">\n",
       "  <thead>\n",
       "    <tr style=\"text-align: right;\">\n",
       "      <th></th>\n",
       "      <th>TOT_POP</th>\n",
       "      <th>PCT_U18</th>\n",
       "      <th>PC_18_65</th>\n",
       "      <th>PCT_O65</th>\n",
       "      <th>MALE_FEM</th>\n",
       "    </tr>\n",
       "  </thead>\n",
       "  <tbody>\n",
       "    <tr>\n",
       "      <th>TOT_POP</th>\n",
       "      <td>1.000000</td>\n",
       "      <td>0.999955</td>\n",
       "      <td>0.999992</td>\n",
       "      <td>0.999795</td>\n",
       "      <td>-0.009473</td>\n",
       "    </tr>\n",
       "    <tr>\n",
       "      <th>PCT_U18</th>\n",
       "      <td>0.999955</td>\n",
       "      <td>1.000000</td>\n",
       "      <td>0.999931</td>\n",
       "      <td>0.999673</td>\n",
       "      <td>-0.009666</td>\n",
       "    </tr>\n",
       "    <tr>\n",
       "      <th>PC_18_65</th>\n",
       "      <td>0.999992</td>\n",
       "      <td>0.999931</td>\n",
       "      <td>1.000000</td>\n",
       "      <td>0.999732</td>\n",
       "      <td>-0.008861</td>\n",
       "    </tr>\n",
       "    <tr>\n",
       "      <th>PCT_O65</th>\n",
       "      <td>0.999795</td>\n",
       "      <td>0.999673</td>\n",
       "      <td>0.999732</td>\n",
       "      <td>1.000000</td>\n",
       "      <td>-0.012146</td>\n",
       "    </tr>\n",
       "    <tr>\n",
       "      <th>MALE_FEM</th>\n",
       "      <td>-0.009473</td>\n",
       "      <td>-0.009666</td>\n",
       "      <td>-0.008861</td>\n",
       "      <td>-0.012146</td>\n",
       "      <td>1.000000</td>\n",
       "    </tr>\n",
       "  </tbody>\n",
       "</table>\n",
       "</div>"
      ],
      "text/plain": [
       "           TOT_POP   PCT_U18  PC_18_65   PCT_O65  MALE_FEM\n",
       "TOT_POP   1.000000  0.999955  0.999992  0.999795 -0.009473\n",
       "PCT_U18   0.999955  1.000000  0.999931  0.999673 -0.009666\n",
       "PC_18_65  0.999992  0.999931  1.000000  0.999732 -0.008861\n",
       "PCT_O65   0.999795  0.999673  0.999732  1.000000 -0.012146\n",
       "MALE_FEM -0.009473 -0.009666 -0.008861 -0.012146  1.000000"
      ]
     },
     "execution_count": 130,
     "metadata": {},
     "output_type": "execute_result"
    }
   ],
   "source": [
    "DF.corr()"
   ]
  },
  {
   "cell_type": "code",
   "execution_count": 134,
   "metadata": {},
   "outputs": [
    {
     "ename": "Exception",
     "evalue": "Data must be 1-dimensional",
     "output_type": "error",
     "traceback": [
      "\u001b[1;31m---------------------------------------------------------------------------\u001b[0m",
      "\u001b[1;31mException\u001b[0m                                 Traceback (most recent call last)",
      "\u001b[1;32m<ipython-input-134-e28a5d34175a>\u001b[0m in \u001b[0;36m<module>\u001b[1;34m()\u001b[0m\n\u001b[1;32m----> 1\u001b[1;33m \u001b[0mpd\u001b[0m\u001b[1;33m.\u001b[0m\u001b[0mSeries\u001b[0m\u001b[1;33m(\u001b[0m\u001b[0mnp\u001b[0m\u001b[1;33m.\u001b[0m\u001b[0mexp\u001b[0m\u001b[1;33m(\u001b[0m\u001b[0mPredicts\u001b[0m\u001b[1;33m)\u001b[0m\u001b[1;33m,\u001b[0m\u001b[0mindex\u001b[0m\u001b[1;33m=\u001b[0m\u001b[0my_test\u001b[0m\u001b[1;33m.\u001b[0m\u001b[0mindex\u001b[0m\u001b[1;33m)\u001b[0m\u001b[1;33m\u001b[0m\u001b[0m\n\u001b[0m",
      "\u001b[1;32mC:\\Anaconda\\lib\\site-packages\\pandas\\core\\series.py\u001b[0m in \u001b[0;36m__init__\u001b[1;34m(self, data, index, dtype, name, copy, fastpath)\u001b[0m\n\u001b[0;32m    262\u001b[0m             \u001b[1;32melse\u001b[0m\u001b[1;33m:\u001b[0m\u001b[1;33m\u001b[0m\u001b[0m\n\u001b[0;32m    263\u001b[0m                 data = _sanitize_array(data, index, dtype, copy,\n\u001b[1;32m--> 264\u001b[1;33m                                        raise_cast_failure=True)\n\u001b[0m\u001b[0;32m    265\u001b[0m \u001b[1;33m\u001b[0m\u001b[0m\n\u001b[0;32m    266\u001b[0m                 \u001b[0mdata\u001b[0m \u001b[1;33m=\u001b[0m \u001b[0mSingleBlockManager\u001b[0m\u001b[1;33m(\u001b[0m\u001b[0mdata\u001b[0m\u001b[1;33m,\u001b[0m \u001b[0mindex\u001b[0m\u001b[1;33m,\u001b[0m \u001b[0mfastpath\u001b[0m\u001b[1;33m=\u001b[0m\u001b[1;32mTrue\u001b[0m\u001b[1;33m)\u001b[0m\u001b[1;33m\u001b[0m\u001b[0m\n",
      "\u001b[1;32mC:\\Anaconda\\lib\\site-packages\\pandas\\core\\series.py\u001b[0m in \u001b[0;36m_sanitize_array\u001b[1;34m(data, index, dtype, copy, raise_cast_failure)\u001b[0m\n\u001b[0;32m   3273\u001b[0m     \u001b[1;32melif\u001b[0m \u001b[0msubarr\u001b[0m\u001b[1;33m.\u001b[0m\u001b[0mndim\u001b[0m \u001b[1;33m>\u001b[0m \u001b[1;36m1\u001b[0m\u001b[1;33m:\u001b[0m\u001b[1;33m\u001b[0m\u001b[0m\n\u001b[0;32m   3274\u001b[0m         \u001b[1;32mif\u001b[0m \u001b[0misinstance\u001b[0m\u001b[1;33m(\u001b[0m\u001b[0mdata\u001b[0m\u001b[1;33m,\u001b[0m \u001b[0mnp\u001b[0m\u001b[1;33m.\u001b[0m\u001b[0mndarray\u001b[0m\u001b[1;33m)\u001b[0m\u001b[1;33m:\u001b[0m\u001b[1;33m\u001b[0m\u001b[0m\n\u001b[1;32m-> 3275\u001b[1;33m             \u001b[1;32mraise\u001b[0m \u001b[0mException\u001b[0m\u001b[1;33m(\u001b[0m\u001b[1;34m'Data must be 1-dimensional'\u001b[0m\u001b[1;33m)\u001b[0m\u001b[1;33m\u001b[0m\u001b[0m\n\u001b[0m\u001b[0;32m   3276\u001b[0m         \u001b[1;32melse\u001b[0m\u001b[1;33m:\u001b[0m\u001b[1;33m\u001b[0m\u001b[0m\n\u001b[0;32m   3277\u001b[0m             \u001b[0msubarr\u001b[0m \u001b[1;33m=\u001b[0m \u001b[0m_asarray_tuplesafe\u001b[0m\u001b[1;33m(\u001b[0m\u001b[0mdata\u001b[0m\u001b[1;33m,\u001b[0m \u001b[0mdtype\u001b[0m\u001b[1;33m=\u001b[0m\u001b[0mdtype\u001b[0m\u001b[1;33m)\u001b[0m\u001b[1;33m\u001b[0m\u001b[0m\n",
      "\u001b[1;31mException\u001b[0m: Data must be 1-dimensional"
     ]
    }
   ],
   "source": [
    "pd.Series(np.exp(Predicts),index=y_test.index)"
   ]
  },
  {
   "cell_type": "code",
   "execution_count": 147,
   "metadata": {},
   "outputs": [
    {
     "data": {
      "text/plain": [
       "0.19224203742313897"
      ]
     },
     "execution_count": 147,
     "metadata": {},
     "output_type": "execute_result"
    }
   ],
   "source": [
    "r*r"
   ]
  },
  {
   "cell_type": "code",
   "execution_count": null,
   "metadata": {},
   "outputs": [],
   "source": []
  }
 ],
 "metadata": {
  "kernelspec": {
   "display_name": "Python 3",
   "language": "python",
   "name": "python3"
  },
  "language_info": {
   "codemirror_mode": {
    "name": "ipython",
    "version": 3
   },
   "file_extension": ".py",
   "mimetype": "text/x-python",
   "name": "python",
   "nbconvert_exporter": "python",
   "pygments_lexer": "ipython3",
   "version": "3.6.4"
  }
 },
 "nbformat": 4,
 "nbformat_minor": 2
}

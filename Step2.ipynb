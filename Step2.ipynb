{
 "cells": [
  {
   "cell_type": "code",
   "execution_count": 1,
   "metadata": {},
   "outputs": [
    {
     "name": "stderr",
     "output_type": "stream",
     "text": [
      "C:\\Anaconda\\lib\\site-packages\\sklearn\\covariance\\robust_covariance.py:165: RuntimeWarning: Warning! det > previous_det (35.216764118117233 > 17.513455322895929)\n",
      "  % (det, previous_det), RuntimeWarning)\n",
      "C:\\Anaconda\\lib\\site-packages\\sklearn\\covariance\\robust_covariance.py:165: RuntimeWarning: Warning! det > previous_det (34.964840560726316 > 31.426750309530799)\n",
      "  % (det, previous_det), RuntimeWarning)\n"
     ]
    }
   ],
   "source": [
    "import pandas as pd\n",
    "import numpy as np\n",
    "\n",
    "New_York=pd.read_csv(\"E:/MiniProject/New_york.csv\",index_col='PLACE')\n",
    "Data=New_York[['TOT_POP','PCT_U18','PC_18_65','PCT_O65','MALE_FEM']]\n",
    "\n",
    "\n",
    "\n",
    "\n",
    "\n",
    "\n",
    "from sklearn import covariance as co\n",
    "\n",
    "inlier_model=co.EllipticEnvelope(store_precision=True, assume_centered=True,random_state=42,  contamination=0.04)\n",
    "Mahalanobis=inlier_model.fit(Data)\n",
    "\n",
    "predicts=Mahalanobis.predict(Data)"
   ]
  },
  {
   "cell_type": "code",
   "execution_count": 2,
   "metadata": {},
   "outputs": [],
   "source": [
    "New_York['in_or_out']=pd.Series(predicts,index=New_York.index)"
   ]
  },
  {
   "cell_type": "code",
   "execution_count": 3,
   "metadata": {},
   "outputs": [],
   "source": [
    "Train_data=New_York[New_York['in_or_out']==1]"
   ]
  },
  {
   "cell_type": "code",
   "execution_count": 4,
   "metadata": {
    "scrolled": true
   },
   "outputs": [],
   "source": [
    "Test_data=New_York[New_York['in_or_out']==-1]"
   ]
  },
  {
   "cell_type": "code",
   "execution_count": 5,
   "metadata": {},
   "outputs": [],
   "source": [
    "X_train=np.log(Train_data[['TOT_POP', 'PCT_U18', 'PC_18_65', 'PCT_O65']])\n",
    "y_train=np.log(Train_data['MALE_FEM'])"
   ]
  },
  {
   "cell_type": "code",
   "execution_count": 6,
   "metadata": {},
   "outputs": [],
   "source": [
    "from sklearn.linear_model import LinearRegression as LR\n",
    "lm=LR(normalize=True,fit_intercept=True)\n",
    "lm_fit=lm.fit(X_train,y_train)"
   ]
  },
  {
   "cell_type": "code",
   "execution_count": 7,
   "metadata": {},
   "outputs": [],
   "source": [
    "X_test=np.log(Test_data[['TOT_POP', 'PCT_U18', 'PC_18_65', 'PCT_O65']])\n",
    "y_test=np.log(Test_data['MALE_FEM'])"
   ]
  },
  {
   "cell_type": "code",
   "execution_count": 8,
   "metadata": {},
   "outputs": [],
   "source": [
    "Predicts1=lm.predict(np.array(X_test))\n",
    "\n",
    "Predicts=pd.Series(Predicts1,index=y_test.index)"
   ]
  },
  {
   "cell_type": "code",
   "execution_count": 9,
   "metadata": {},
   "outputs": [
    {
     "name": "stdout",
     "output_type": "stream",
     "text": [
      "0.3743819612172551\n"
     ]
    }
   ],
   "source": [
    "import sklearn.metrics as po\n",
    "print(po.r2_score(np.exp(y_test),np.exp(Predicts)))"
   ]
  },
  {
   "cell_type": "code",
   "execution_count": 10,
   "metadata": {
    "scrolled": true
   },
   "outputs": [
    {
     "data": {
      "text/plain": [
       "PLACE\n",
       "Albany city                                                                                84.2\n",
       "Binghamton city                                                                            82.7\n",
       "Brentwood CDP                                                                              94.4\n",
       "Brighton CDP                                                                               81.0\n",
       "Buffalo city                                                                               82.5\n",
       "Cheektowaga CDP                                                                            86.0\n",
       "Commack CDP                                                                                95.2\n",
       "Deer Park CDP                                                                              91.6\n",
       "East Meadow CDP                                                                           102.9\n",
       "Franklin Square CDP                                                                        86.3\n",
       "Hempstead village                                                                          83.5\n",
       "Irondequoit CDP                                                                            83.1\n",
       "Ithaca city                                                                               106.9\n",
       "Kiryas Joel village                                                                       122.5\n",
       "Levittown CDP                                                                              93.4\n",
       "Long Beach city                                                                            87.5\n",
       "Monsey CDP                                                                                 99.7\n",
       "Mount Vernon city                                                                          77.7\n",
       "Newburgh city                                                                              81.4\n",
       "New City CDP                                                                               95.7\n",
       "New Rochelle city                                                                          83.9\n",
       "New York city                                                                              84.5\n",
       "Niagara Falls city                                                                         82.1\n",
       "Rochester city                                                                             84.7\n",
       "Schenectady city                                                                           84.8\n",
       "Shirley CDP                                                                                95.4\n",
       "Syracuse city                                                                              83.3\n",
       "Tonawanda CDP                                                                              85.1\n",
       "Troy city                                                                                  95.6\n",
       "Utica city                                                                                 83.4\n",
       "White Plains city                                                                          83.3\n",
       "Yonkers city                                                                               83.4\n",
       "Name: MALE_FEM, dtype: float64"
      ]
     },
     "execution_count": 10,
     "metadata": {},
     "output_type": "execute_result"
    }
   ],
   "source": [
    "np.exp(y_test)"
   ]
  },
  {
   "cell_type": "code",
   "execution_count": 11,
   "metadata": {
    "scrolled": true
   },
   "outputs": [
    {
     "data": {
      "text/plain": [
       "PLACE\n",
       "Albany city                                                                                86.323405\n",
       "Binghamton city                                                                            81.429950\n",
       "Brentwood CDP                                                                              95.935825\n",
       "Brighton CDP                                                                               82.789645\n",
       "Buffalo city                                                                               80.931259\n",
       "Cheektowaga CDP                                                                            81.527169\n",
       "Commack CDP                                                                                95.538655\n",
       "Deer Park CDP                                                                              92.753634\n",
       "East Meadow CDP                                                                            87.419125\n",
       "Franklin Square CDP                                                                        82.217114\n",
       "Hempstead village                                                                          94.122152\n",
       "Irondequoit CDP                                                                            78.058202\n",
       "Ithaca city                                                                               109.855591\n",
       "Kiryas Joel village                                                                        94.533099\n",
       "Levittown CDP                                                                              90.025033\n",
       "Long Beach city                                                                            84.314502\n",
       "Monsey CDP                                                                                 86.167578\n",
       "Mount Vernon city                                                                          83.712073\n",
       "Newburgh city                                                                              86.673168\n",
       "New City CDP                                                                               97.182878\n",
       "New Rochelle city                                                                          82.826922\n",
       "New York city                                                                              79.649217\n",
       "Niagara Falls city                                                                         78.697305\n",
       "Rochester city                                                                             83.944786\n",
       "Schenectady city                                                                           81.881382\n",
       "Shirley CDP                                                                                93.827710\n",
       "Syracuse city                                                                              82.801534\n",
       "Tonawanda CDP                                                                              80.267018\n",
       "Troy city                                                                                  86.404395\n",
       "Utica city                                                                                 79.332149\n",
       "White Plains city                                                                          86.703572\n",
       "Yonkers city                                                                               81.546017\n",
       "dtype: float64"
      ]
     },
     "execution_count": 11,
     "metadata": {},
     "output_type": "execute_result"
    }
   ],
   "source": [
    "np.exp(Predicts)"
   ]
  },
  {
   "cell_type": "code",
   "execution_count": 12,
   "metadata": {},
   "outputs": [
    {
     "data": {
      "text/plain": [
       "32"
      ]
     },
     "execution_count": 12,
     "metadata": {},
     "output_type": "execute_result"
    }
   ],
   "source": [
    "len(Test_data)"
   ]
  },
  {
   "cell_type": "code",
   "execution_count": null,
   "metadata": {},
   "outputs": [],
   "source": []
  }
 ],
 "metadata": {
  "kernelspec": {
   "display_name": "Python 3",
   "language": "python",
   "name": "python3"
  },
  "language_info": {
   "codemirror_mode": {
    "name": "ipython",
    "version": 3
   },
   "file_extension": ".py",
   "mimetype": "text/x-python",
   "name": "python",
   "nbconvert_exporter": "python",
   "pygments_lexer": "ipython3",
   "version": "3.6.4"
  }
 },
 "nbformat": 4,
 "nbformat_minor": 2
}
